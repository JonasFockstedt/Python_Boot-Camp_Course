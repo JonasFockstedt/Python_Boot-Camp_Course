{
 "metadata": {
  "language_info": {
   "codemirror_mode": {
    "name": "ipython",
    "version": 3
   },
   "file_extension": ".py",
   "mimetype": "text/x-python",
   "name": "python",
   "nbconvert_exporter": "python",
   "pygments_lexer": "ipython3",
   "version": "3.8.2-final"
  },
  "orig_nbformat": 2,
  "kernelspec": {
   "name": "python_defaultSpec_1599413026028",
   "display_name": "Python 3.8.2 64-bit"
  }
 },
 "nbformat": 4,
 "nbformat_minor": 2,
 "cells": [
  {
   "cell_type": "code",
   "execution_count": 1,
   "metadata": {},
   "outputs": [],
   "source": [
    "import shutil\n",
    "\n",
    "shutil.unpack_archive('unzip_me_for_instructions.zip',\n",
    "                      'extracted_content', 'zip')"
   ]
  },
  {
   "cell_type": "code",
   "execution_count": 2,
   "metadata": {
    "tags": []
   },
   "outputs": [
    {
     "output_type": "stream",
     "name": "stdout",
     "text": "Good work on unzipping the file!\nYou should now see 5 folders, each with a lot of random .txt files.\nWithin one of these text files is a telephone number formated ###-###-#### \nUse the Python os module and regular expressions to iterate through each file, open it, and search for a telephone number.\nGood luck!\n"
    }
   ],
   "source": [
    "with open('extracted_content/Instructions.txt') as f:\n",
    "    print(f.read())"
   ]
  },
  {
   "cell_type": "code",
   "execution_count": 3,
   "metadata": {
    "tags": []
   },
   "outputs": [
    {
     "output_type": "stream",
     "name": "stdout",
     "text": "719-266-2837\n"
    }
   ],
   "source": [
    "import os\n",
    "import re\n",
    "\n",
    "for folder, sub_folders, files in os.walk(os.getcwd() + '/extracted_content'):\n",
    "    for document in files:\n",
    "        with open(folder + '/' + document) as f:\n",
    "            match = re.search(r'\\d{3}-\\d{3}-\\d{4}', f.read())\n",
    "            if match:\n",
    "                print(match.group())"
   ]
  }
 ]
}